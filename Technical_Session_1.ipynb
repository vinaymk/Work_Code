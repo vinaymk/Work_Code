{
 "cells": [
  {
   "cell_type": "markdown",
   "id": "e4726a49",
   "metadata": {},
   "source": [
    "Creating Environments"
   ]
  },
  {
   "cell_type": "code",
   "execution_count": null,
   "id": "e8fc836a",
   "metadata": {},
   "outputs": [],
   "source": [
    "#Multiple ways to create Environment\n",
    "\n",
    "#python \n",
    "python -m venv \"name of the environment\"\n",
    "## In that specific path env would be created, in command prompt\n",
    "\n",
    "# Create Venv using VS Code, Ctrl+Shift+P , create environment\n",
    "#In VS code go to terminal and execute the same\n",
    "& .\\.venv\\Scripts\\Activate.ps1 #To activate\n",
    "\n",
    "\n",
    "#anaconda\n",
    "conda create -p \"name of the environment\" python==3.10 \n",
    "## Under environment folder the different environment would be created\n",
    "\n",
    "## In anaconda prompt :\n",
    "conda info --envs #list the environments\n",
    "conda activate environment_name\n",
    "conda deactivate\n"
   ]
  },
  {
   "cell_type": "code",
   "execution_count": 4,
   "id": "a1fb72f9",
   "metadata": {},
   "outputs": [
    {
     "name": "stdout",
     "output_type": "stream",
     "text": [
      "2 Home 33\n"
     ]
    }
   ],
   "source": [
    "# Basic Syntax \n",
    "\n",
    "#Case sensitive\n",
    "#Indentation Tab/4 spaces\n",
    "#Multiline comment \n",
    "\"\"\" \n",
    "comment \n",
    "line1 \n",
    "line2\n",
    "\"\"\"\n",
    "\n",
    "#Line continuation \\\n",
    "10+13+\\\n",
    "2\n",
    "\n",
    "# Multiple Statements on a single line\n",
    "x=2;y=\"Home\";z=33\n",
    "print(x,y,z)\n"
   ]
  },
  {
   "cell_type": "code",
   "execution_count": 27,
   "id": "fc448ab1",
   "metadata": {},
   "outputs": [
    {
     "name": "stdout",
     "output_type": "stream",
     "text": [
      "<class 'tuple'>\n"
     ]
    },
    {
     "data": {
      "text/plain": [
       "10"
      ]
     },
     "execution_count": 27,
     "metadata": {},
     "output_type": "execute_result"
    }
   ],
   "source": [
    "# Variables\n",
    "x,y,z\n",
    "\n",
    "#Basic\n",
    "int\n",
    "float\n",
    "str\n",
    "bool\n",
    "\n",
    "#Advanced\n",
    "tuple\n",
    "set\n",
    "list\n",
    "dict\n",
    "\n",
    "#Tuple ==> immutable -> means we cannot assign or update the value of the \n",
    "x=(1,2,3,4);y=tuple(x)\n",
    "print(type(x))\n",
    "\n",
    "\n",
    "#Set \n",
    "x={5,4,4,1,2,3}\n",
    "x\n",
    "\n",
    "#List\n",
    "x=[1,2,3,4,5,6]\n",
    "\n",
    "#dictionary\n",
    "x={'a':10,'b':16}\n",
    "x.get('a')\n",
    "# iteration, keys ,items"
   ]
  },
  {
   "cell_type": "code",
   "execution_count": 28,
   "id": "09542191",
   "metadata": {},
   "outputs": [
    {
     "name": "stdout",
     "output_type": "stream",
     "text": [
      "1\n",
      "5\n",
      "2\n",
      "4\n",
      "3\n",
      "3\n",
      "4\n",
      "2\n",
      "5\n",
      "1\n",
      "0 1\n",
      "1 2\n",
      "2 3\n",
      "3 4\n",
      "4 5\n"
     ]
    }
   ],
   "source": [
    "#Functions\n",
    "def function_name(x,y):\n",
    "    something=x+y\n",
    "    return something\n",
    "    \n",
    "# Lambda Function - One liner\n",
    "addition=lambda x,y:x+y\n",
    "addition(5,6)\n",
    "\n",
    "# Map Function - It applies a function for the entire list\n",
    "square_lambda_function=lambda x:x**2\n",
    "old_list=[1,2,3,4,5]\n",
    "new_list=list(map(square_lambda_function,old_list))\n",
    "new_list\n",
    "\n",
    "# Filter function \n",
    "even_func=lambda x:x%2==0\n",
    "\n",
    "list_all=[1,2,3,4,5,6,7,8,9,10]\n",
    "filtered_list=list(filter(even_func,list_all))\n",
    "filtered_list\n",
    "\n",
    "## zip fucntion\n",
    "x=[1,2,3,4,5]\n",
    "y=[5,4,3,2,1,6]\n",
    "\n",
    "for a,b in zip(x,y):\n",
    "    print(a)\n",
    "    print(b)\n",
    "    \n",
    "## enumerate\n",
    "for idx,value in enumerate(x):\n",
    "    print(idx,value)"
   ]
  },
  {
   "cell_type": "code",
   "execution_count": 26,
   "id": "1b04fe5b",
   "metadata": {},
   "outputs": [
    {
     "name": "stdout",
     "output_type": "stream",
     "text": [
      "1 5\n",
      "2 4\n",
      "3 3\n",
      "4 2\n",
      "5 1\n"
     ]
    }
   ],
   "source": [
    "## zip fucntion\n",
    "x=[1,2,3,4,5]\n",
    "y=[5,4,3,2,1,6]\n",
    "\n",
    "for a,b in zip(x,y):\n",
    "    print(a,b)"
   ]
  },
  {
   "cell_type": "code",
   "execution_count": 13,
   "id": "0d9d625c",
   "metadata": {},
   "outputs": [
    {
     "data": {
      "text/plain": [
       "[0, 1, 4, 9, 16]"
      ]
     },
     "execution_count": 13,
     "metadata": {},
     "output_type": "execute_result"
    }
   ],
   "source": [
    "#List comprehension\n",
    "list_comp=[x for x in range(5)]\n",
    "list_comp"
   ]
  },
  {
   "cell_type": "code",
   "execution_count": 32,
   "id": "26c95984",
   "metadata": {},
   "outputs": [
    {
     "name": "stdout",
     "output_type": "stream",
     "text": [
      "Target has been achieved\n"
     ]
    },
    {
     "data": {
      "text/plain": [
       "list"
      ]
     },
     "execution_count": 32,
     "metadata": {},
     "output_type": "execute_result"
    }
   ],
   "source": [
    "## Class :- Its a blue print for creating Object or define the rules of creating an object or logical collection of attributes and methods\n",
    "\n",
    "## Object :- Its an instantiation of a class or Instances of Class\n",
    "\n",
    "## Instance Varaiable and Method :- attributes and functions of that particular class\n",
    "\n",
    "## Noun => Name of the class\n",
    "## Adjective ==> Attributes\n",
    "## Verb/action ==> Methods\n",
    "\n",
    "# Example Employee class and giving life is creating object\n",
    "class Employee:\n",
    "    name=\"Ramesh\"             ##     Class\n",
    "    designation=\"Engineer\"    #### Attributes\n",
    "    numberOfProjects=3        ##\n",
    "    \n",
    "    def hasTargetAchieved(self): #This is the keyword used to access the attributes of the class\n",
    "        if self.numberOfProjects >= 2:           ##\n",
    "            print(\"Target has been achieved\")    #### Method of \n",
    "        else:                                    #### the class\n",
    "            print(\"Target not achieved\")         ##  \n",
    "            \n",
    "emp_1=Employee() ## Object of the class, giving life or instantiating the class            \n",
    "\n",
    "## Access the class\n",
    "emp_1.name\n",
    "\n",
    "emp_1.hasTargetAchieved()\n",
    "\n",
    "emp_2=Employee()\n",
    "emp_2.name\n",
    "\n",
    "### In python\n",
    "variable=list()\n",
    "type(variable) ==> # list is a class in python\n",
    "variable.append() ==> # Append is the method of that class"
   ]
  },
  {
   "cell_type": "code",
   "execution_count": 33,
   "id": "acb15acd",
   "metadata": {},
   "outputs": [
    {
     "name": "stdout",
     "output_type": "stream",
     "text": [
      "Help on class list in module builtins:\n",
      "\n",
      "class list(object)\n",
      " |  list(iterable=(), /)\n",
      " |  \n",
      " |  Built-in mutable sequence.\n",
      " |  \n",
      " |  If no argument is given, the constructor creates a new empty list.\n",
      " |  The argument must be an iterable if specified.\n",
      " |  \n",
      " |  Methods defined here:\n",
      " |  \n",
      " |  __add__(self, value, /)\n",
      " |      Return self+value.\n",
      " |  \n",
      " |  __contains__(self, key, /)\n",
      " |      Return key in self.\n",
      " |  \n",
      " |  __delitem__(self, key, /)\n",
      " |      Delete self[key].\n",
      " |  \n",
      " |  __eq__(self, value, /)\n",
      " |      Return self==value.\n",
      " |  \n",
      " |  __ge__(self, value, /)\n",
      " |      Return self>=value.\n",
      " |  \n",
      " |  __getattribute__(self, name, /)\n",
      " |      Return getattr(self, name).\n",
      " |  \n",
      " |  __getitem__(...)\n",
      " |      x.__getitem__(y) <==> x[y]\n",
      " |  \n",
      " |  __gt__(self, value, /)\n",
      " |      Return self>value.\n",
      " |  \n",
      " |  __iadd__(self, value, /)\n",
      " |      Implement self+=value.\n",
      " |  \n",
      " |  __imul__(self, value, /)\n",
      " |      Implement self*=value.\n",
      " |  \n",
      " |  __init__(self, /, *args, **kwargs)\n",
      " |      Initialize self.  See help(type(self)) for accurate signature.\n",
      " |  \n",
      " |  __iter__(self, /)\n",
      " |      Implement iter(self).\n",
      " |  \n",
      " |  __le__(self, value, /)\n",
      " |      Return self<=value.\n",
      " |  \n",
      " |  __len__(self, /)\n",
      " |      Return len(self).\n",
      " |  \n",
      " |  __lt__(self, value, /)\n",
      " |      Return self<value.\n",
      " |  \n",
      " |  __mul__(self, value, /)\n",
      " |      Return self*value.\n",
      " |  \n",
      " |  __ne__(self, value, /)\n",
      " |      Return self!=value.\n",
      " |  \n",
      " |  __repr__(self, /)\n",
      " |      Return repr(self).\n",
      " |  \n",
      " |  __reversed__(self, /)\n",
      " |      Return a reverse iterator over the list.\n",
      " |  \n",
      " |  __rmul__(self, value, /)\n",
      " |      Return value*self.\n",
      " |  \n",
      " |  __setitem__(self, key, value, /)\n",
      " |      Set self[key] to value.\n",
      " |  \n",
      " |  __sizeof__(self, /)\n",
      " |      Return the size of the list in memory, in bytes.\n",
      " |  \n",
      " |  append(self, object, /)\n",
      " |      Append object to the end of the list.\n",
      " |  \n",
      " |  clear(self, /)\n",
      " |      Remove all items from list.\n",
      " |  \n",
      " |  copy(self, /)\n",
      " |      Return a shallow copy of the list.\n",
      " |  \n",
      " |  count(self, value, /)\n",
      " |      Return number of occurrences of value.\n",
      " |  \n",
      " |  extend(self, iterable, /)\n",
      " |      Extend list by appending elements from the iterable.\n",
      " |  \n",
      " |  index(self, value, start=0, stop=9223372036854775807, /)\n",
      " |      Return first index of value.\n",
      " |      \n",
      " |      Raises ValueError if the value is not present.\n",
      " |  \n",
      " |  insert(self, index, object, /)\n",
      " |      Insert object before index.\n",
      " |  \n",
      " |  pop(self, index=-1, /)\n",
      " |      Remove and return item at index (default last).\n",
      " |      \n",
      " |      Raises IndexError if list is empty or index is out of range.\n",
      " |  \n",
      " |  remove(self, value, /)\n",
      " |      Remove first occurrence of value.\n",
      " |      \n",
      " |      Raises ValueError if the value is not present.\n",
      " |  \n",
      " |  reverse(self, /)\n",
      " |      Reverse *IN PLACE*.\n",
      " |  \n",
      " |  sort(self, /, *, key=None, reverse=False)\n",
      " |      Sort the list in ascending order and return None.\n",
      " |      \n",
      " |      The sort is in-place (i.e. the list itself is modified) and stable (i.e. the\n",
      " |      order of two equal elements is maintained).\n",
      " |      \n",
      " |      If a key function is given, apply it once to each list item and sort them,\n",
      " |      ascending or descending, according to their function values.\n",
      " |      \n",
      " |      The reverse flag can be set to sort in descending order.\n",
      " |  \n",
      " |  ----------------------------------------------------------------------\n",
      " |  Class methods defined here:\n",
      " |  \n",
      " |  __class_getitem__(...) from builtins.type\n",
      " |      See PEP 585\n",
      " |  \n",
      " |  ----------------------------------------------------------------------\n",
      " |  Static methods defined here:\n",
      " |  \n",
      " |  __new__(*args, **kwargs) from builtins.type\n",
      " |      Create and return a new object.  See help(type) for accurate signature.\n",
      " |  \n",
      " |  ----------------------------------------------------------------------\n",
      " |  Data and other attributes defined here:\n",
      " |  \n",
      " |  __hash__ = None\n",
      "\n"
     ]
    }
   ],
   "source": [
    "help(list)"
   ]
  },
  {
   "cell_type": "code",
   "execution_count": 47,
   "id": "f9072d6d",
   "metadata": {},
   "outputs": [
    {
     "name": "stdout",
     "output_type": "stream",
     "text": [
      "3\n",
      "2\n",
      "1\n"
     ]
    },
    {
     "data": {
      "text/plain": [
       "3"
      ]
     },
     "execution_count": 47,
     "metadata": {},
     "output_type": "execute_result"
    }
   ],
   "source": [
    "x=list([1,2,3])\n",
    "x.__add__([4])\n",
    "x.__len__()\n",
    "y=x.__reversed__()\n",
    "for y in y:\n",
    "    print(y)\n",
    "x.pop()    "
   ]
  },
  {
   "cell_type": "code",
   "execution_count": 48,
   "id": "83aaddea",
   "metadata": {},
   "outputs": [
    {
     "ename": "AttributeError",
     "evalue": "'Employee' object has no attribute 'name'",
     "output_type": "error",
     "traceback": [
      "\u001b[1;31m---------------------------------------------------------------------------\u001b[0m",
      "\u001b[1;31mAttributeError\u001b[0m                            Traceback (most recent call last)",
      "Input \u001b[1;32mIn [48]\u001b[0m, in \u001b[0;36m<cell line: 25>\u001b[1;34m()\u001b[0m\n\u001b[0;32m     23\u001b[0m emp1\u001b[38;5;241m.\u001b[39mname\u001b[38;5;241m=\u001b[39m\u001b[38;5;124m\"\u001b[39m\u001b[38;5;124mA\u001b[39m\u001b[38;5;124m\"\u001b[39m\n\u001b[0;32m     24\u001b[0m emp1\u001b[38;5;241m.\u001b[39mname\n\u001b[1;32m---> 25\u001b[0m \u001b[43memp2\u001b[49m\u001b[38;5;241;43m.\u001b[39;49m\u001b[43mname\u001b[49m\n",
      "\u001b[1;31mAttributeError\u001b[0m: 'Employee' object has no attribute 'name'"
     ]
    }
   ],
   "source": [
    "## Class Attributes Vs Instance Attributes\n",
    "\n",
    "## Class Attributes are common across all the instances of the class, for every object we create the value remains the same\n",
    "\n",
    "class Employee:\n",
    "    numberOfWorkingHours=9  #\n",
    "\n",
    "emp1=Employee()\n",
    "emp2=Employee()\n",
    "\n",
    "emp1.numberOfWorkingHours\n",
    "emp2.numberOfWorkingHours\n",
    "\n",
    "# To change the class attribute we need to use\n",
    "\n",
    "Employee.numberOfWorkingHours=10\n",
    "\n",
    "emp1.numberOfWorkingHours\n",
    "emp2.numberOfWorkingHours\n",
    "\n",
    "## Instance Atrribute is specific to each object / Instance of that object\n",
    "\n",
    "emp1.name=\"A\"\n",
    "emp1.name\n",
    "emp2.name"
   ]
  },
  {
   "cell_type": "code",
   "execution_count": 49,
   "id": "fcfe2d7e",
   "metadata": {},
   "outputs": [
    {
     "data": {
      "text/plain": [
       "'B'"
      ]
     },
     "execution_count": 49,
     "metadata": {},
     "output_type": "execute_result"
    }
   ],
   "source": [
    "emp2.name=\"B\"\n",
    "emp2.name\n",
    "\n",
    "#Even though the name of the attribute is same i,e name but the values held are specific to that object respectively."
   ]
  },
  {
   "cell_type": "code",
   "execution_count": 51,
   "id": "afc38e5c",
   "metadata": {},
   "outputs": [
    {
     "data": {
      "text/plain": [
       "11"
      ]
     },
     "execution_count": 51,
     "metadata": {},
     "output_type": "execute_result"
    }
   ],
   "source": [
    "emp1.numberOfWorkingHours=11\n",
    "emp1.numberOfWorkingHours"
   ]
  },
  {
   "cell_type": "code",
   "execution_count": 52,
   "id": "79964744",
   "metadata": {},
   "outputs": [
    {
     "data": {
      "text/plain": [
       "10"
      ]
     },
     "execution_count": 52,
     "metadata": {},
     "output_type": "execute_result"
    }
   ],
   "source": [
    "emp2.numberOfWorkingHours\n",
    "\n",
    "## Here python checks if there is an instance variable with the name numberOfWorkingHours, it is creating it in case of emp1\n",
    "## Incase of emp2 first it checks the if there is variable in the instance method if not then checks class variable"
   ]
  },
  {
   "cell_type": "code",
   "execution_count": 53,
   "id": "b7075fc2",
   "metadata": {},
   "outputs": [
    {
     "ename": "TypeError",
     "evalue": "empDetails() takes 0 positional arguments but 1 was given",
     "output_type": "error",
     "traceback": [
      "\u001b[1;31m---------------------------------------------------------------------------\u001b[0m",
      "\u001b[1;31mTypeError\u001b[0m                                 Traceback (most recent call last)",
      "Input \u001b[1;32mIn [53]\u001b[0m, in \u001b[0;36m<cell line: 9>\u001b[1;34m()\u001b[0m\n\u001b[0;32m      6\u001b[0m         \u001b[38;5;28;01mpass\u001b[39;00m\n\u001b[0;32m      8\u001b[0m emp1\u001b[38;5;241m=\u001b[39mEmployee()\n\u001b[1;32m----> 9\u001b[0m \u001b[43memp1\u001b[49m\u001b[38;5;241;43m.\u001b[39;49m\u001b[43mempDetails\u001b[49m\u001b[43m(\u001b[49m\u001b[43m)\u001b[49m\n",
      "\u001b[1;31mTypeError\u001b[0m: empDetails() takes 0 positional arguments but 1 was given"
     ]
    }
   ],
   "source": [
    "## Self keyword\n",
    "\n",
    "class Employee:\n",
    "    \n",
    "    def empDetails():\n",
    "        pass\n",
    "    \n",
    "emp1=Employee()\n",
    "emp1.empDetails()"
   ]
  },
  {
   "cell_type": "code",
   "execution_count": 56,
   "id": "b1c9667a",
   "metadata": {},
   "outputs": [
    {
     "ename": "TypeError",
     "evalue": "empDetails() takes 0 positional arguments but 1 was given",
     "output_type": "error",
     "traceback": [
      "\u001b[1;31m---------------------------------------------------------------------------\u001b[0m",
      "\u001b[1;31mTypeError\u001b[0m                                 Traceback (most recent call last)",
      "Input \u001b[1;32mIn [56]\u001b[0m, in \u001b[0;36m<cell line: 2>\u001b[1;34m()\u001b[0m\n\u001b[0;32m      1\u001b[0m \u001b[38;5;66;03m# How python calls it internally\u001b[39;00m\n\u001b[1;32m----> 2\u001b[0m \u001b[43mEmployee\u001b[49m\u001b[38;5;241;43m.\u001b[39;49m\u001b[43mempDetails\u001b[49m\u001b[43m(\u001b[49m\u001b[43memp1\u001b[49m\u001b[43m)\u001b[49m\n\u001b[0;32m      4\u001b[0m \u001b[38;5;66;03m# To receive the paramater we need something # Self\u001b[39;00m\n\u001b[0;32m      5\u001b[0m \u001b[38;5;28;01mclass\u001b[39;00m \u001b[38;5;21;01mEmployee\u001b[39;00m:\n",
      "\u001b[1;31mTypeError\u001b[0m: empDetails() takes 0 positional arguments but 1 was given"
     ]
    }
   ],
   "source": [
    "# How python calls it internally\n",
    "Employee.empDetails(emp1)"
   ]
  },
  {
   "cell_type": "code",
   "execution_count": 57,
   "id": "707cfa5a",
   "metadata": {},
   "outputs": [],
   "source": [
    "# To receive the paramater we need something # Self\n",
    "class Employee:\n",
    "    \n",
    "    def empDetails(self):\n",
    "        pass\n",
    "    \n",
    "# self is a convention used which is common across, so that when someone is reading the code then we can think that it is \n",
    "# referring to the object itself\n",
    "emp1=Employee()\n",
    "emp1.empDetails()\n"
   ]
  },
  {
   "cell_type": "code",
   "execution_count": 58,
   "id": "e21e7031",
   "metadata": {},
   "outputs": [
    {
     "ename": "AttributeError",
     "evalue": "'Employee' object has no attribute 'name'",
     "output_type": "error",
     "traceback": [
      "\u001b[1;31m---------------------------------------------------------------------------\u001b[0m",
      "\u001b[1;31mAttributeError\u001b[0m                            Traceback (most recent call last)",
      "Input \u001b[1;32mIn [58]\u001b[0m, in \u001b[0;36m<cell line: 11>\u001b[1;34m()\u001b[0m\n\u001b[0;32m      8\u001b[0m         \u001b[38;5;28mprint\u001b[39m(\u001b[38;5;28mself\u001b[39m\u001b[38;5;241m.\u001b[39mname)\n\u001b[0;32m     10\u001b[0m empA\u001b[38;5;241m=\u001b[39mEmployee()\n\u001b[1;32m---> 11\u001b[0m \u001b[43mempA\u001b[49m\u001b[38;5;241;43m.\u001b[39;49m\u001b[43mdisplayEmployeeDetails\u001b[49m\u001b[43m(\u001b[49m\u001b[43m)\u001b[49m\n",
      "Input \u001b[1;32mIn [58]\u001b[0m, in \u001b[0;36mEmployee.displayEmployeeDetails\u001b[1;34m(self)\u001b[0m\n\u001b[0;32m      7\u001b[0m \u001b[38;5;28;01mdef\u001b[39;00m \u001b[38;5;21mdisplayEmployeeDetails\u001b[39m(\u001b[38;5;28mself\u001b[39m):\n\u001b[1;32m----> 8\u001b[0m     \u001b[38;5;28mprint\u001b[39m(\u001b[38;5;28;43mself\u001b[39;49m\u001b[38;5;241;43m.\u001b[39;49m\u001b[43mname\u001b[49m)\n",
      "\u001b[1;31mAttributeError\u001b[0m: 'Employee' object has no attribute 'name'"
     ]
    }
   ],
   "source": [
    "## init method \n",
    "\n",
    "class Employee:\n",
    "    def enterEmployeeDetails(self):\n",
    "        self.name=\"A\"\n",
    "        \n",
    "    def displayEmployeeDetails(self):\n",
    "        print(self.name)\n",
    "        \n",
    "empA=Employee()\n",
    "empA.displayEmployeeDetails()\n",
    "\n",
    "# Here we are calling the second function but the name is getting the value in first method so we have this error"
   ]
  },
  {
   "cell_type": "code",
   "execution_count": 60,
   "id": "ca5d9e0e",
   "metadata": {},
   "outputs": [
    {
     "name": "stdout",
     "output_type": "stream",
     "text": [
      "A\n"
     ]
    }
   ],
   "source": [
    "# To initialize all the attributes before calling any methods we use this init\n",
    "\n",
    "# WHen we create an object firstly the init is called , it is similar to constructuors in c++\n",
    "\n",
    "class Employee:\n",
    "    \n",
    "    def __init__(self):   #special methods start with __\n",
    "        self.name=\"A\"\n",
    "    \n",
    "    # def enterEmployeeDetails(self):\n",
    "    #     self.name=\"A\"\n",
    "        \n",
    "    def displayEmployeeDetails(self):\n",
    "        print(self.name)\n",
    "        \n",
    "empA=Employee() # here when the object is created first it calls the init method where name is initialized\n",
    "empA.displayEmployeeDetails()\n",
    "\n"
   ]
  },
  {
   "cell_type": "code",
   "execution_count": 61,
   "id": "9ca302f0",
   "metadata": {},
   "outputs": [
    {
     "name": "stdout",
     "output_type": "stream",
     "text": [
      "A\n",
      "B\n"
     ]
    }
   ],
   "source": [
    "# What if you want to dynamically assign the attribute with the parameter we pass\n",
    "class Employee:\n",
    "    \n",
    "    def __init__(self,name):   #self.name is an instance attribut whereas name is the paramter we are passing\n",
    "        self.name=name\n",
    "        \n",
    "    def displayEmployeeDetails(self):\n",
    "        print(self.name)\n",
    "\n",
    "emp1=Employee(\"A\")\n",
    "emp1.displayEmployeeDetails()\n",
    "\n",
    "emp2=Employee(\"B\")\n",
    "emp2.displayEmployeeDetails()"
   ]
  },
  {
   "cell_type": "code",
   "execution_count": 64,
   "id": "dddd1f10",
   "metadata": {},
   "outputs": [
    {
     "data": {
      "text/plain": [
       "<pptx.presentation.Presentation at 0x2bfced21190>"
      ]
     },
     "execution_count": 64,
     "metadata": {},
     "output_type": "execute_result"
    }
   ],
   "source": [
    "## Applying the same concept to pptx\n",
    "from pptx import Presentation\n",
    "\n",
    "prs = Presentation() ## here we are instatiating the class Presentation\n",
    "prs ## is an object\n"
   ]
  },
  {
   "cell_type": "code",
   "execution_count": 65,
   "id": "f42eccfa",
   "metadata": {},
   "outputs": [],
   "source": [
    "title_slide_layout = prs.slide_layouts[0] ## slide layouts is a method "
   ]
  },
  {
   "cell_type": "code",
   "execution_count": 66,
   "id": "59331668",
   "metadata": {},
   "outputs": [],
   "source": [
    "slide = prs.slides.add_slide(title_slide_layout) ## add a slide with first slide layout"
   ]
  },
  {
   "cell_type": "code",
   "execution_count": 68,
   "id": "d6c50b96",
   "metadata": {},
   "outputs": [],
   "source": [
    "title = slide.shapes.title\n",
    "subtitle = slide.placeholders[1]\n",
    "\n",
    "title.text = \"My first PPT!\"\n",
    "subtitle.text = \"Done this using python-pptx package!\"\n",
    "\n",
    "prs.save('C:/Users/U1135904/Documents/PPT_Automation_Project_full_V2/test.pptx')"
   ]
  },
  {
   "cell_type": "code",
   "execution_count": null,
   "id": "7ff1f08c",
   "metadata": {},
   "outputs": [],
   "source": []
  }
 ],
 "metadata": {
  "kernelspec": {
   "display_name": "Python 3 (ipykernel)",
   "language": "python",
   "name": "python3"
  },
  "language_info": {
   "codemirror_mode": {
    "name": "ipython",
    "version": 3
   },
   "file_extension": ".py",
   "mimetype": "text/x-python",
   "name": "python",
   "nbconvert_exporter": "python",
   "pygments_lexer": "ipython3",
   "version": "3.9.12"
  }
 },
 "nbformat": 4,
 "nbformat_minor": 5
}
